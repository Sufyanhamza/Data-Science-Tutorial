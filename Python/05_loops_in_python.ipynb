{
 "cells": [
  {
   "cell_type": "markdown",
   "metadata": {},
   "source": [
    "# Loops in Python\n",
    "\n",
    "- Need for loops\n",
    "- While Loop\n",
    "- For Loop"
   ]
  },
  {
   "cell_type": "code",
   "execution_count": 1,
   "metadata": {},
   "outputs": [],
   "source": [
    "# While loop example -> program to print the table\n",
    "# Program -> Sum of all digits of a given number\n",
    "# Program -> keep accepting numbers from users till he/she enters a 0 and then find the avg"
   ]
  },
  {
   "cell_type": "code",
   "execution_count": 2,
   "metadata": {},
   "outputs": [
    {
     "name": "stdout",
     "output_type": "stream",
     "text": [
      "3 * 1 = 3\n",
      "3 * 2 = 6\n",
      "3 * 3 = 9\n",
      "3 * 4 = 12\n",
      "3 * 5 = 15\n",
      "3 * 6 = 18\n",
      "3 * 7 = 21\n",
      "3 * 8 = 24\n",
      "3 * 9 = 27\n",
      "3 * 10 = 30\n"
     ]
    }
   ],
   "source": [
    "number = int(input('enter the number'))\n",
    "\n",
    "i = 1\n",
    "\n",
    "while i<11:\n",
    "  print(number,'*',i,'=',number * i)\n",
    "  i += 1"
   ]
  },
  {
   "cell_type": "code",
   "execution_count": 3,
   "metadata": {},
   "outputs": [
    {
     "name": "stdout",
     "output_type": "stream",
     "text": [
      "1\n",
      "2\n",
      "limit crossed\n"
     ]
    }
   ],
   "source": [
    "# while loop with else\n",
    "\n",
    "x = 1\n",
    "\n",
    "while x < 3:\n",
    "  print(x)\n",
    "  x += 1\n",
    "\n",
    "else:\n",
    "  print('limit crossed')"
   ]
  },
  {
   "cell_type": "code",
   "execution_count": 4,
   "metadata": {},
   "outputs": [
    {
     "name": "stdout",
     "output_type": "stream",
     "text": [
      "galat!guess higher\n",
      "galat!guess higher\n",
      "galat!guess higher\n",
      "galat!guess higher\n",
      "galat!guess lower\n",
      "galat!guess lower\n",
      "galat!guess lower\n",
      "galat!guess lower\n",
      "galat!guess lower\n",
      "galat!guess lower\n",
      "galat!guess lower\n",
      "galat!guess lower\n",
      "galat!guess lower\n",
      "galat!guess lower\n",
      "galat!guess higher\n",
      "galat!guess lower\n",
      "galat!guess higher\n",
      "galat!guess higher\n",
      "correct guess\n",
      "attempts 19\n"
     ]
    }
   ],
   "source": [
    "# Guessing game\n",
    "\n",
    "# generate a random integer between 1 and 100\n",
    "import random\n",
    "jackpot = random.randint(1,100)\n",
    "\n",
    "guess = int(input('guess karo'))\n",
    "counter = 1\n",
    "while guess != jackpot:\n",
    "  if guess < jackpot:\n",
    "    print('galat!guess higher')\n",
    "  else:\n",
    "    print('galat!guess lower')\n",
    "\n",
    "  guess = int(input('guess karo'))\n",
    "  counter += 1\n",
    "\n",
    "else:\n",
    "  print('correct guess')\n",
    "  print('attempts',counter)\n",
    "\n",
    "\n"
   ]
  },
  {
   "cell_type": "code",
   "execution_count": 5,
   "metadata": {},
   "outputs": [
    {
     "name": "stdout",
     "output_type": "stream",
     "text": [
      "1\n",
      "2\n",
      "3\n",
      "4\n",
      "5\n"
     ]
    }
   ],
   "source": [
    "# For loop demo\n",
    "\n",
    "for i in {1,2,3,4,5}:\n",
    "  print(i)"
   ]
  },
  {
   "cell_type": "markdown",
   "metadata": {},
   "source": [
    "### Program - The current population of a town is 10000. The population of the town is increasing at the rate of 10% per year. You have to write a program to find out the population at the end of each of the last 10 years."
   ]
  },
  {
   "cell_type": "code",
   "execution_count": 6,
   "metadata": {},
   "outputs": [
    {
     "name": "stdout",
     "output_type": "stream",
     "text": [
      "10 10000\n",
      "9 9000.0\n",
      "8 8100.0\n",
      "7 7290.0\n",
      "6 6561.0\n",
      "5 5904.9\n",
      "4 5314.41\n",
      "3 4782.969\n",
      "2 4304.6721\n",
      "1 3874.20489\n"
     ]
    }
   ],
   "source": [
    "curr_pop = 10000\n",
    "\n",
    "for i in range(10,0,-1):\n",
    "  print(i,curr_pop)\n",
    "  curr_pop = curr_pop - 0.1*curr_pop"
   ]
  },
  {
   "cell_type": "markdown",
   "metadata": {},
   "source": [
    "### Sequence sum\n",
    "\n",
    "1/1! + 2/2! + 3/3! + ..."
   ]
  },
  {
   "cell_type": "code",
   "execution_count": 7,
   "metadata": {},
   "outputs": [
    {
     "name": "stdout",
     "output_type": "stream",
     "text": [
      "2.7182818284590455\n"
     ]
    }
   ],
   "source": [
    "# Code here\n",
    "\n",
    "n = int(input('enter n'))\n",
    "\n",
    "result = 0\n",
    "fact = 1\n",
    "\n",
    "for i in range(1,n+1):\n",
    "  fact = fact * i\n",
    "  result = result + i/fact\n",
    "\n",
    "print(result)"
   ]
  },
  {
   "cell_type": "markdown",
   "metadata": {},
   "source": [
    "# Nested Loops"
   ]
  },
  {
   "cell_type": "code",
   "execution_count": 8,
   "metadata": {},
   "outputs": [
    {
     "name": "stdout",
     "output_type": "stream",
     "text": [
      "1 1\n",
      "1 2\n",
      "1 3\n",
      "1 4\n",
      "2 1\n",
      "2 2\n",
      "2 3\n",
      "2 4\n",
      "3 1\n",
      "3 2\n",
      "3 3\n",
      "3 4\n",
      "4 1\n",
      "4 2\n",
      "4 3\n",
      "4 4\n"
     ]
    }
   ],
   "source": [
    "# Examples -> unique pairs\n",
    "\n",
    "for i in range(1,5):\n",
    "  for j in range(1,5):\n",
    "    print(i,j)"
   ]
  },
  {
   "cell_type": "markdown",
   "metadata": {},
   "source": [
    "### Pattern 1\n",
    "\n",
    "\n",
    "*** <br>\n",
    "**** <br>\n",
    "***<br>\n"
   ]
  },
  {
   "cell_type": "code",
   "execution_count": 9,
   "metadata": {},
   "outputs": [
    {
     "name": "stdout",
     "output_type": "stream",
     "text": [
      "*\n",
      "**\n",
      "***\n",
      "****\n",
      "*****\n"
     ]
    }
   ],
   "source": [
    "# code here\n",
    "\n",
    "rows = int(input('enter number of rows'))\n",
    "\n",
    "for i in range(1,rows+1):\n",
    "  for j in range(1,i+1):\n",
    "    print('*',end='')\n",
    "  print()"
   ]
  },
  {
   "cell_type": "markdown",
   "metadata": {},
   "source": [
    "### Pattern 2\n",
    "\n",
    "1<br>\n",
    "121<br>\n",
    "12321<br>\n",
    "1234321<br>"
   ]
  },
  {
   "cell_type": "code",
   "execution_count": 10,
   "metadata": {},
   "outputs": [
    {
     "name": "stdout",
     "output_type": "stream",
     "text": [
      "1\n",
      "121\n",
      "12321\n",
      "1234321\n",
      "123454321\n"
     ]
    }
   ],
   "source": [
    "# Code here\n",
    "rows = int(input('enter number of rows'))\n",
    "\n",
    "for i in range(1,rows+1):\n",
    "  for j in range(1,i+1):\n",
    "    print(j,end='')\n",
    "  for k in range(i-1,0,-1):\n",
    "    print(k,end='')\n",
    "\n",
    "  print()"
   ]
  },
  {
   "cell_type": "markdown",
   "metadata": {},
   "source": [
    "# Loop Control Statement\n",
    "\n",
    "- Break\n",
    "- Continue\n",
    "- Pass"
   ]
  },
  {
   "cell_type": "code",
   "execution_count": 11,
   "metadata": {},
   "outputs": [
    {
     "name": "stdout",
     "output_type": "stream",
     "text": [
      "1\n",
      "2\n",
      "3\n",
      "4\n"
     ]
    }
   ],
   "source": [
    "for i in range(1,10):\n",
    "  if i == 5:\n",
    "    break\n",
    "  print(i)"
   ]
  },
  {
   "cell_type": "code",
   "execution_count": 12,
   "metadata": {},
   "outputs": [
    {
     "name": "stdout",
     "output_type": "stream",
     "text": [
      "5\n",
      "7\n",
      "11\n",
      "13\n",
      "17\n",
      "19\n",
      "23\n",
      "29\n",
      "31\n"
     ]
    }
   ],
   "source": [
    "lower = int(input('enter lower range'))\n",
    "upper = int(input('enter upper range'))\n",
    "\n",
    "for i in range(lower,upper+1):\n",
    "  for j in range(2,i):\n",
    "    if i%j == 0:\n",
    "      break\n",
    "  else:\n",
    "    print(i)"
   ]
  },
  {
   "cell_type": "code",
   "execution_count": 13,
   "metadata": {},
   "outputs": [
    {
     "name": "stdout",
     "output_type": "stream",
     "text": [
      "1\n",
      "2\n",
      "3\n",
      "4\n",
      "6\n",
      "7\n",
      "8\n",
      "9\n"
     ]
    }
   ],
   "source": [
    "# Continue\n",
    "for i in range(1,10):\n",
    "  if i == 5:\n",
    "    continue\n",
    "  print(i)"
   ]
  },
  {
   "cell_type": "code",
   "execution_count": 14,
   "metadata": {},
   "outputs": [],
   "source": [
    "for i in range(1,10):\n",
    "  pass"
   ]
  },
  {
   "cell_type": "code",
   "execution_count": null,
   "metadata": {},
   "outputs": [],
   "source": []
  }
 ],
 "metadata": {
  "kernelspec": {
   "display_name": "python_eda",
   "language": "python",
   "name": "python3"
  },
  "language_info": {
   "codemirror_mode": {
    "name": "ipython",
    "version": 3
   },
   "file_extension": ".py",
   "mimetype": "text/x-python",
   "name": "python",
   "nbconvert_exporter": "python",
   "pygments_lexer": "ipython3",
   "version": "3.12.1"
  }
 },
 "nbformat": 4,
 "nbformat_minor": 2
}
