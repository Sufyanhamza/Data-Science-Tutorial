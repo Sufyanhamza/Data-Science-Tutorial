{
 "cells": [
  {
   "cell_type": "markdown",
   "metadata": {},
   "source": [
    "# If-else in Python"
   ]
  },
  {
   "cell_type": "code",
   "execution_count": 1,
   "metadata": {},
   "outputs": [
    {
     "name": "stdout",
     "output_type": "stream",
     "text": [
      "Welcome\n"
     ]
    }
   ],
   "source": [
    "# login program and indentation\n",
    "# email -> sufyan.hamza07@gmail.com\n",
    "# password -> 1234\n",
    "\n",
    "email = input('enter email')\n",
    "password = input('enter password')\n",
    "\n",
    "if email == 'sufyan.hamza07@gmail.com' and password == '1234':\n",
    "  print('Welcome')\n",
    "elif email == 'sufyan.hamza07@gmail.com' and password != '1234':\n",
    "  # tell the user\n",
    "  print('Incorrect password')\n",
    "  password = input('enter password again')\n",
    "  if password == '1234':\n",
    "    print('Welcome,finally!')\n",
    "  else:\n",
    "    print('Still incorrect!')\n",
    "else:\n",
    "  print('Not correct')"
   ]
  },
  {
   "cell_type": "markdown",
   "metadata": {},
   "source": [
    "### if-else examples\n",
    "### 1. Find the min of 3 given numbers\n",
    "### 2. Menu Driven Program"
   ]
  },
  {
   "cell_type": "code",
   "execution_count": 2,
   "metadata": {},
   "outputs": [
    {
     "name": "stdout",
     "output_type": "stream",
     "text": [
      "smallest is 2\n"
     ]
    }
   ],
   "source": [
    "# min of 3 number\n",
    "\n",
    "a = int(input('first num'))\n",
    "b = int(input('second num'))\n",
    "c = int(input('third num'))\n",
    "\n",
    "if a<b and a<c:\n",
    "  print('smallest is',a)\n",
    "elif b<c:\n",
    "  print('smallest is',b)\n",
    "else:\n",
    "  print('smallest is',c)"
   ]
  },
  {
   "cell_type": "code",
   "execution_count": 3,
   "metadata": {},
   "outputs": [
    {
     "name": "stdout",
     "output_type": "stream",
     "text": [
      "exit\n"
     ]
    }
   ],
   "source": [
    "# menu driven calculator\n",
    "menu = input(\"\"\"\n",
    "Hi! how can I help you.\n",
    "1. Enter 1 for pin change\n",
    "2. Enter 2 for balance check\n",
    "3. Enter 3 for withdrawl\n",
    "4. Enter 4 for exit\n",
    "\"\"\")\n",
    "\n",
    "if menu == '1':\n",
    "  print('pin change')\n",
    "elif menu == '2':\n",
    "  print('balance')\n",
    "else:\n",
    "  print('exit')"
   ]
  }
 ],
 "metadata": {
  "kernelspec": {
   "display_name": "python_eda",
   "language": "python",
   "name": "python3"
  },
  "language_info": {
   "codemirror_mode": {
    "name": "ipython",
    "version": 3
   },
   "file_extension": ".py",
   "mimetype": "text/x-python",
   "name": "python",
   "nbconvert_exporter": "python",
   "pygments_lexer": "ipython3",
   "version": "3.12.1"
  }
 },
 "nbformat": 4,
 "nbformat_minor": 2
}
