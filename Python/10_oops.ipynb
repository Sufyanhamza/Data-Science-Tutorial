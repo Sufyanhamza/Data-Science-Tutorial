{
 "cells": [
  {
   "cell_type": "code",
   "execution_count": 1,
   "metadata": {},
   "outputs": [
    {
     "name": "stdout",
     "output_type": "stream",
     "text": [
      "<class 'list'>\n"
     ]
    }
   ],
   "source": [
    "L = [1,2,3]\n",
    "print(type(L))"
   ]
  },
  {
   "cell_type": "code",
   "execution_count": 2,
   "metadata": {},
   "outputs": [],
   "source": [
    "s = [1,2,3]"
   ]
  },
  {
   "cell_type": "code",
   "execution_count": 3,
   "metadata": {},
   "outputs": [],
   "source": [
    "# syntax to create an object\n",
    "\n",
    "#objectname = classname()"
   ]
  },
  {
   "cell_type": "code",
   "execution_count": 4,
   "metadata": {},
   "outputs": [],
   "source": [
    "# object literal\n",
    "L = [1,2,3]"
   ]
  },
  {
   "cell_type": "code",
   "execution_count": 5,
   "metadata": {},
   "outputs": [
    {
     "data": {
      "text/plain": [
       "[]"
      ]
     },
     "execution_count": 5,
     "metadata": {},
     "output_type": "execute_result"
    }
   ],
   "source": [
    "L = list()\n",
    "L"
   ]
  },
  {
   "cell_type": "code",
   "execution_count": 6,
   "metadata": {},
   "outputs": [
    {
     "data": {
      "text/plain": [
       "''"
      ]
     },
     "execution_count": 6,
     "metadata": {},
     "output_type": "execute_result"
    }
   ],
   "source": [
    "s = str()\n",
    "s"
   ]
  },
  {
   "cell_type": "code",
   "execution_count": null,
   "metadata": {},
   "outputs": [],
   "source": [
    "# Pascal Case\n",
    "\n",
    "HelloWorld"
   ]
  },
  {
   "cell_type": "code",
   "execution_count": 8,
   "metadata": {},
   "outputs": [],
   "source": [
    "# pascal Case\n",
    "class Atm:\n",
    "    # Constructor (Special function)\n",
    "    def __init__(self):\n",
    "        print(id(self))\n",
    "        self.pin = ''\n",
    "        self.balance = 0\n",
    "        # self.menu()\n",
    "        # print(\"Constructor executed when we make an object\")\n",
    "\n",
    "    def menu(self):\n",
    "        user_input = input(\"\"\"\n",
    "        Hi how would you like to proceed?\n",
    "        1. Enter 1 to create pin\n",
    "        2. Enter 2 to change pin\n",
    "        3. Enter 3 to check balance\n",
    "        4. Enter 4 to withdraw\n",
    "        5. Enter 5 to exit\n",
    "        \"\"\")\n",
    "        if user_input == '1':\n",
    "            # Create pin\n",
    "            self.create_pin()\n",
    "        elif user_input == '2':\n",
    "            # Change pin\n",
    "            self.change_pin()\n",
    "        elif user_input == '3':\n",
    "            # Check balance\n",
    "            self.check_balance()\n",
    "\n",
    "        elif user_input == '4':\n",
    "            # Withdraw money\n",
    "            self.withdrawl()\n",
    "        else:\n",
    "            exit()\n",
    "\n",
    "    def create_pin(self):\n",
    "        user_pin = input('Enter your pin')\n",
    "        self.pin = user_pin\n",
    "\n",
    "        user_balance = int(input('Enter Balance'))\n",
    "        self.balance = user_balance\n",
    "\n",
    "        print('Pin Create successfully!')\n",
    "        self.menu()\n",
    "\n",
    "    def change_pin(self):\n",
    "        old_pin = input('Enter old pin')\n",
    "\n",
    "        if old_pin == self.pin:\n",
    "            # Let him change the pin\n",
    "            new_pin = input('Enter new pin')\n",
    "            self.pin = new_pin\n",
    "            print('Pin changed successfully')\n",
    "            self.menu()\n",
    "        else:\n",
    "            print('Invalid old pin')\n",
    "            self.menu()\n",
    "\n",
    "\n",
    "    def check_balance(self):\n",
    "        user_pin = input('Enter your pin')\n",
    "        if user_pin == self.pin:\n",
    "            print('Balance is {}'.format(self.balance))\n",
    "        else:\n",
    "            print('Invalid pin')\n",
    "\n",
    "    def withdrawl(self):\n",
    "        user_pin = input('Enter your pin')\n",
    "        if user_pin == self.pin:\n",
    "            # Allow to withdraw\n",
    "            amount = int(input('Enter the amount'))\n",
    "            if amount <= self.balance:\n",
    "                self.balance = self.balance - amount\n",
    "                print('Withdrawal Successful and Balance is {}'.format(self.balance))\n",
    "            else:\n",
    "                print('Insufficient Balance')\n",
    "        else:\n",
    "            print('Invalid pin')\n",
    "        self.menu()\n"
   ]
  },
  {
   "cell_type": "code",
   "execution_count": null,
   "metadata": {},
   "outputs": [],
   "source": []
  }
 ],
 "metadata": {
  "kernelspec": {
   "display_name": "Python 3",
   "language": "python",
   "name": "python3"
  },
  "language_info": {
   "codemirror_mode": {
    "name": "ipython",
    "version": 3
   },
   "file_extension": ".py",
   "mimetype": "text/x-python",
   "name": "python",
   "nbconvert_exporter": "python",
   "pygments_lexer": "ipython3",
   "version": "3.9.13"
  }
 },
 "nbformat": 4,
 "nbformat_minor": 2
}
