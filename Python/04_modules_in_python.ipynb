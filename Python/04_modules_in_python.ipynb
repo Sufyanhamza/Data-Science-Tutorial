{
 "cells": [
  {
   "cell_type": "markdown",
   "metadata": {},
   "source": [
    "# Modules in Python\n",
    "\n",
    "- math\n",
    "- keywords\n",
    "- random\n",
    "- datetime"
   ]
  },
  {
   "cell_type": "code",
   "execution_count": 1,
   "metadata": {},
   "outputs": [
    {
     "data": {
      "text/plain": [
       "14.0"
      ]
     },
     "execution_count": 1,
     "metadata": {},
     "output_type": "execute_result"
    }
   ],
   "source": [
    "# math\n",
    "import math\n",
    "\n",
    "math.sqrt(196)"
   ]
  },
  {
   "cell_type": "code",
   "execution_count": 2,
   "metadata": {},
   "outputs": [
    {
     "name": "stdout",
     "output_type": "stream",
     "text": [
      "['False', 'None', 'True', 'and', 'as', 'assert', 'async', 'await', 'break', 'class', 'continue', 'def', 'del', 'elif', 'else', 'except', 'finally', 'for', 'from', 'global', 'if', 'import', 'in', 'is', 'lambda', 'nonlocal', 'not', 'or', 'pass', 'raise', 'return', 'try', 'while', 'with', 'yield']\n"
     ]
    }
   ],
   "source": [
    "# keyword\n",
    "import keyword\n",
    "print(keyword.kwlist)"
   ]
  },
  {
   "cell_type": "code",
   "execution_count": 3,
   "metadata": {},
   "outputs": [
    {
     "name": "stdout",
     "output_type": "stream",
     "text": [
      "43\n"
     ]
    }
   ],
   "source": [
    "# random\n",
    "import random\n",
    "print(random.randint(1,100))"
   ]
  },
  {
   "cell_type": "code",
   "execution_count": 4,
   "metadata": {},
   "outputs": [
    {
     "name": "stdout",
     "output_type": "stream",
     "text": [
      "2024-03-19 20:09:39.973040\n"
     ]
    }
   ],
   "source": [
    "# datetime\n",
    "import datetime\n",
    "print(datetime.datetime.now())"
   ]
  },
  {
   "cell_type": "code",
   "execution_count": 5,
   "metadata": {},
   "outputs": [
    {
     "name": "stdout",
     "output_type": "stream",
     "text": [
      "\n",
      "Please wait a moment while I gather a list of all available modules...\n",
      "\n",
      "Using TensorFlow backend\n"
     ]
    },
    {
     "name": "stderr",
     "output_type": "stream",
     "text": [
      "c:\\Users\\Sufiyan Hamza\\anaconda3\\envs\\python_eda\\Lib\\pkgutil.py:78: UserWarning: The numpy.array_api submodule is still experimental. See NEP 47.\n",
      "  __import__(info.name)\n",
      "c:\\Users\\Sufiyan Hamza\\anaconda3\\envs\\python_eda\\Lib\\site-packages\\tqdm\\auto.py:21: TqdmWarning:\n",
      "\n",
      "IProgress not found. Please update jupyter and ipywidgets. See https://ipywidgets.readthedocs.io/en/stable/user_install.html\n",
      "\n"
     ]
    },
    {
     "name": "stdout",
     "output_type": "stream",
     "text": [
      "IPython             bz2                 mimetypes           subprocess\n",
      "PIL                 cProfile            mkl                 sunau\n",
      "__future__          calendar            mkl_fft             symtable\n",
      "__hello__           certifi             ml_dtypes           sys\n",
      "__phello__          cgi                 mmap                sysconfig\n",
      "_abc                cgitb               mmapfile            tabnanny\n",
      "_aix_support        charset_normalizer  mmsystem            tarfile\n",
      "_ast                chunk               modulefinder        telnetlib\n",
      "_asyncio            click               mpl_toolkits        tempfile\n",
      "_bisect             cmath               msilib              tenacity\n",
      "_blake2             cmd                 msvcrt              tensorflow_datasets\n",
      "_bz2                code                multiprocessing     tensorflow_metadata\n",
      "_codecs             codecs              namex               termcolor\n",
      "_codecs_cn          codeop              nbformat            test\n",
      "_codecs_hk          collections         nest_asyncio        textwrap\n",
      "_codecs_iso2022     colorama            netbios             this\n",
      "_codecs_jp          colorsys            netrc               threading\n",
      "_codecs_kr          comm                nntplib             threadpoolctl\n",
      "_codecs_tw          commctrl            nt                  time\n",
      "_collections        compileall          ntpath              timeit\n",
      "_collections_abc    concurrent          ntsecuritycon       timer\n",
      "_compat_pickle      configparser        nturl2path          tkinter\n",
      "_compression        contextlib          numbers             token\n",
      "_contextvars        contextvars         numexpr             tokenize\n",
      "_csv                contourpy           numpy               toml\n",
      "_ctypes             copy                odbc                tomllib\n",
      "_ctypes_test        copyreg             opcode              tornado\n",
      "_datetime           crypt               openpyxl            tqdm\n",
      "_decimal            csv                 operator            trace\n",
      "_distutils_hack     ctypes              optparse            traceback\n",
      "_elementtree        curses              os                  tracemalloc\n",
      "_functools          cycler              packaging           traitlets\n",
      "_hashlib            dataclasses         pandas              tree\n",
      "_heapq              datetime            parso               tty\n",
      "_imp                dateutil            pathlib             turtle\n",
      "_io                 dbi                 pdb                 turtledemo\n",
      "_json               dbm                 perfmon             types\n",
      "_locale             dde                 pickle              typing\n",
      "_lsprof             debugpy             pickleshare         typing_extensions\n",
      "_lzma               decimal             pickletools         tzdata\n",
      "_markupbase         decorator           pip                 unicodedata\n",
      "_md5                difflib             pipes               unittest\n",
      "_msi                dis                 pkg_resources       urllib\n",
      "_multibytecodec     doctest             pkgutil             urllib3\n",
      "_multiprocessing    email               platform            uu\n",
      "_opcode             encodings           platformdirs        uuid\n",
      "_operator           ensurepip           plistlib            venv\n",
      "_osx_support        enum                plotly              warnings\n",
      "_overlapped         errno               poplib              wave\n",
      "_pickle             et_xmlfile          posixpath           wcwidth\n",
      "_plotly_future_     etils               pprint              weakref\n",
      "_plotly_utils       exceptiongroup      profile             webbrowser\n",
      "_py_abc             executing           promise             wheel\n",
      "_pydatetime         fastjsonschema      prompt_toolkit      win2kras\n",
      "_pydecimal          faulthandler        pstats              win32api\n",
      "_pyio               filecmp             psutil              win32clipboard\n",
      "_pylong             fileinput           pty                 win32com\n",
      "_queue              fnmatch             pure_eval           win32con\n",
      "_random             fontTools           py_compile          win32console\n",
      "_sha1               fractions           pyclbr              win32cred\n",
      "_sha2               fsspec              pydoc               win32crypt\n",
      "_sha3               ftplib              pydoc_data          win32cryptcon\n",
      "_signal             functools           pyexpat             win32event\n",
      "_sitebuiltins       gc                  pygments            win32evtlog\n",
      "_socket             genericpath         pylab               win32evtlogutil\n",
      "_sqlite3            getopt              pyparsing           win32file\n",
      "_sre                getpass             pythoncom           win32gui\n",
      "_ssl                gettext             pytz                win32gui_struct\n",
      "_stat               glob                pywin               win32help\n",
      "_statistics         graphlib            pywin32_bootstrap   win32inet\n",
      "_string             gzip                pywin32_testutil    win32inetcon\n",
      "_strptime           h5py                pywintypes          win32job\n",
      "_struct             hashlib             queue               win32lz\n",
      "_symtable           heapq               quopri              win32net\n",
      "_testbuffer         hmac                random              win32netcon\n",
      "_testcapi           html                rasutil             win32pdh\n",
      "_testclinic         http                re                  win32pdhquery\n",
      "_testconsole        idlelib             referencing         win32pdhutil\n",
      "_testimportmultiple idna                regcheck            win32pipe\n",
      "_testinternalcapi   imaplib             regex               win32print\n",
      "_testmultiphase     imghdr              regutil             win32process\n",
      "_testsinglephase    importlib           reprlib             win32profile\n",
      "_thread             importlib_metadata  requests            win32ras\n",
      "_threading_local    importlib_resources rich                win32rcparser\n",
      "_tkinter            inspect             rlcompleter         win32security\n",
      "_tokenize           io                  rpds                win32service\n",
      "_tracemalloc        ipaddress           runpy               win32serviceutil\n",
      "_typing             ipykernel           sched               win32timezone\n",
      "_uuid               ipykernel_launcher  scipy               win32trace\n",
      "_warnings           isapi               seaborn             win32traceutil\n",
      "_weakref            itertools           secrets             win32transaction\n",
      "_weakrefset         jedi                select              win32ts\n",
      "_win32sysloader     joblib              selectors           win32ui\n",
      "_winapi             json                servicemanager      win32uiole\n",
      "_winxptheme         jsonschema          setuptools          win32verstamp\n",
      "_wmi                jsonschema_specifications shelve              win32wnet\n",
      "_xxinterpchannels   jupyter             shlex               winerror\n",
      "_xxsubinterpreters  jupyter_client      shutil              winioctlcon\n",
      "_zoneinfo           jupyter_core        signal              winnt\n",
      "abc                 jupyterlab_plotly   site                winperf\n",
      "absl                kagglehub           six                 winreg\n",
      "adodbapi            kaleido             sklearn             winsound\n",
      "afxres              keras               smtplib             winxpgui\n",
      "aifc                keras_core          sndhdr              winxptheme\n",
      "antigravity         keras_cv            socket              wrapt\n",
      "argparse            keyword             socketserver        wsgiref\n",
      "array               kiwisolver          sqlite3             xdrlib\n",
      "ast                 lib2to3             squarify            xml\n",
      "asttokens           linecache           sre_compile         xmlrpc\n",
      "asyncio             locale              sre_constants       xxlimited\n",
      "atexit              logging             sre_parse           xxlimited_35\n",
      "attr                lzma                ssl                 xxsubtype\n",
      "attrs               mailbox             sspi                zipapp\n",
      "audioop             mailcap             sspicon             zipfile\n",
      "base64              markdown_it         stack_data          zipimport\n",
      "bdb                 marshal             stat                zipp\n",
      "binascii            math                statistics          zlib\n",
      "bisect              matplotlib          string              zmq\n",
      "bottleneck          matplotlib_inline   stringprep          zoneinfo\n",
      "builtins            mdurl               struct              \n",
      "\n",
      "Enter any module name to get more help.  Or, type \"modules spam\" to search\n",
      "for modules whose name or summary contain the string \"spam\".\n",
      "\n"
     ]
    }
   ],
   "source": [
    "help('modules')"
   ]
  },
  {
   "cell_type": "code",
   "execution_count": null,
   "metadata": {},
   "outputs": [],
   "source": []
  }
 ],
 "metadata": {
  "kernelspec": {
   "display_name": "python_eda",
   "language": "python",
   "name": "python3"
  },
  "language_info": {
   "codemirror_mode": {
    "name": "ipython",
    "version": 3
   },
   "file_extension": ".py",
   "mimetype": "text/x-python",
   "name": "python",
   "nbconvert_exporter": "python",
   "pygments_lexer": "ipython3",
   "version": "3.12.1"
  }
 },
 "nbformat": 4,
 "nbformat_minor": 2
}
